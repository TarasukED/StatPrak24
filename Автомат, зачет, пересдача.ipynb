{
 "cells": [
  {
   "cell_type": "code",
   "execution_count": 23,
   "id": "25ae929f",
   "metadata": {},
   "outputs": [
    {
     "name": "stdout",
     "output_type": "stream",
     "text": [
      "                          Student  cluster  Total Score\n",
      "0         Агаева Эмилия Назимовна        0         16.0\n",
      "1         Бауман Артём Георгиевич        1         10.5\n",
      "2             Вехов Иван Олегович        0         18.0\n",
      "3         Егоров Кирилл Сергеевич        2          1.0\n",
      "4      Килимчук Иван Вячеславович        0         17.0\n",
      "5         Кираев Булат Рустамович        0         18.0\n",
      "6           Козлов Глеб Денисович        0         17.0\n",
      "7        Корнийчук Павел Павлович        0         14.0\n",
      "8    Мирошниченко Никита Игоревич        0         18.5\n",
      "9       Родионова Мария Романовна        0         18.0\n",
      "10        Садыков Артур Маратович        1          7.0\n",
      "11        Сёмин Михаил Максимович        0         14.5\n",
      "12  Циберева Елизавета Кирилловна        0         18.5\n",
      "13        Яранцев Егор Евгеньевич        0         15.0\n",
      "14              Бакланов Владимир        1          6.5\n",
      "15              Виноградова Мария        0         17.0\n",
      "16                   Гладков Иван        0         17.0\n",
      "17            Горностаев Геннадий        2          0.0\n",
      "18                 Дручук Георгий        0         20.0\n",
      "19                  Зайцев Даниил        0         18.0\n",
      "20           Караваева Александра        0         18.0\n",
      "21                 Малышев Максим        0         18.0\n",
      "22                 Микляева Дарья        0         18.0\n",
      "23                 Морозова Мария        0         20.0\n",
      "24                   Русанов Эрик        0         15.5\n",
      "25              Тарасюк Екатерина        0         17.5\n",
      "26                   Тылык Даниил        0         17.5\n",
      "27                 Шипицын Матвей        0         17.0\n",
      "28                  Уваров Андрей        0         18.0\n"
     ]
    },
    {
     "name": "stderr",
     "output_type": "stream",
     "text": [
      "/home/kate/anaconda3/lib/python3.11/site-packages/sklearn/cluster/_kmeans.py:1412: FutureWarning: The default value of `n_init` will change from 10 to 'auto' in 1.4. Set the value of `n_init` explicitly to suppress the warning\n",
      "  super()._check_params_vs_input(X, default_n_init=10)\n"
     ]
    }
   ],
   "source": [
    "import pandas as pd\n",
    "from sklearn.cluster import KMeans\n",
    "\n",
    "def cluster_students(data: pd.DataFrame, num_clusters: int = 3) -> pd.DataFrame:\n",
    "\n",
    "    student_info = data[[\"ID\", \"Student\"]]\n",
    "    grades_data = data.drop([\"ID\", \"Student\"], axis=1)\n",
    "\n",
    "    kmeans = KMeans(n_clusters=num_clusters, random_state=42)\n",
    "    kmeans.fit(grades_data)\n",
    "\n",
    "    \n",
    "    grades_data['cluster'] = kmeans.labels_\n",
    "    clustered_data = pd.concat([student_info, grades_data], axis=1)\n",
    "\n",
    "    return clustered_data\n",
    "\n",
    "data = data = pd.read_csv(\"Table .csv\").fillna(0)\n",
    "clustered_data = cluster_students(data)\n",
    "clustered_data[\"Total Score\"] = clustered_data.drop([\"ID\", \"Student\", \"cluster\"], axis=1).sum(axis=1)\n",
    "print(clustered_data.loc[:, ['Student', 'cluster', 'Total Score']])\n"
   ]
  },
  {
   "cell_type": "markdown",
   "id": "b5dfa6b1",
   "metadata": {},
   "source": [
    "0 - зачет автоматом\n",
    "\n",
    "1 - на зачет\n",
    "\n",
    "2 - на пересдачу"
   ]
  },
  {
   "cell_type": "markdown",
   "id": "5e4de899",
   "metadata": {},
   "source": [
    "Честно признаюсь, что ради экономии времени преобразовала табличку ручками немного..."
   ]
  }
 ],
 "metadata": {
  "kernelspec": {
   "display_name": "Python 3 (ipykernel)",
   "language": "python",
   "name": "python3"
  },
  "language_info": {
   "codemirror_mode": {
    "name": "ipython",
    "version": 3
   },
   "file_extension": ".py",
   "mimetype": "text/x-python",
   "name": "python",
   "nbconvert_exporter": "python",
   "pygments_lexer": "ipython3",
   "version": "3.11.5"
  }
 },
 "nbformat": 4,
 "nbformat_minor": 5
}
